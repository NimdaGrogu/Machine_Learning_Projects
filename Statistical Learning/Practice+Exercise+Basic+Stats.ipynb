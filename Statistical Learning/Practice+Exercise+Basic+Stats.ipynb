{
 "cells": [
  {
   "cell_type": "markdown",
   "metadata": {},
   "source": [
    "# Context\n",
    "\n",
    "In this exercise, we will use the income-expenditure dataset(Inc_Exp_Data.csv) to obtain various descriptive statistical summary of the households. The income-expenditure dataset contains the income expenditure of the individuals having a family."
   ]
  },
  {
   "cell_type": "markdown",
   "metadata": {},
   "source": [
    "# Data Description\n",
    "\n",
    "The income-expenditure dataset contains 7 attributes of 50 individuals.\n",
    "\n",
    "1. **Mthly_HH_Income** - Monthly Household Income\n",
    "2. **Mthly_HH_Expense** - Monthly Household Expense\n",
    "3.\t**No_of_Fly_Members** - Number of Family Members\n",
    "4.\t**Emi_or_Rent_Amt** - Monthly EMI or Rent Amount\n",
    "5.\t**Annual_HH_Income** - Annual Household Income\n",
    "6.\t**Highest_Qualified_Member** - Education Level of the Highest Qualified Member in the household\n",
    "7.\t**No_of_Earning_Members** - Number of Earning Members"
   ]
  },
  {
   "cell_type": "markdown",
   "metadata": {},
   "source": [
    "# 1.Import necessary packages"
   ]
  },
  {
   "cell_type": "code",
   "execution_count": 27,
   "metadata": {},
   "outputs": [],
   "source": [
    "import pandas as pd\n",
    "from pandas_profiling import ProfileReport\n",
    "import seaborn as sns\n",
    "import matplotlib as plt\n",
    "%matplotlib inline\n",
    "%reload_ext autoreload\n",
    "%autoreload 1\n"
   ]
  },
  {
   "cell_type": "markdown",
   "metadata": {},
   "source": [
    "# 2.Load the file"
   ]
  },
  {
   "cell_type": "code",
   "execution_count": 5,
   "metadata": {},
   "outputs": [
    {
     "data": {
      "text/plain": "   Mthly_HH_Income  Mthly_HH_Expense  No_of_Fly_Members  Emi_or_Rent_Amt  \\\n0             5000              8000                  3             2000   \n1             6000              7000                  2             3000   \n2            10000              4500                  2                0   \n3            10000              2000                  1                0   \n4            12500             12000                  2             3000   \n\n   Annual_HH_Income Highest_Qualified_Member  No_of_Earning_Members  \n0             64200           Under-Graduate                      1  \n1             79920               Illiterate                      1  \n2            112800           Under-Graduate                      1  \n3             97200               Illiterate                      1  \n4            147000                 Graduate                      1  ",
      "text/html": "<div>\n<style scoped>\n    .dataframe tbody tr th:only-of-type {\n        vertical-align: middle;\n    }\n\n    .dataframe tbody tr th {\n        vertical-align: top;\n    }\n\n    .dataframe thead th {\n        text-align: right;\n    }\n</style>\n<table border=\"1\" class=\"dataframe\">\n  <thead>\n    <tr style=\"text-align: right;\">\n      <th></th>\n      <th>Mthly_HH_Income</th>\n      <th>Mthly_HH_Expense</th>\n      <th>No_of_Fly_Members</th>\n      <th>Emi_or_Rent_Amt</th>\n      <th>Annual_HH_Income</th>\n      <th>Highest_Qualified_Member</th>\n      <th>No_of_Earning_Members</th>\n    </tr>\n  </thead>\n  <tbody>\n    <tr>\n      <th>0</th>\n      <td>5000</td>\n      <td>8000</td>\n      <td>3</td>\n      <td>2000</td>\n      <td>64200</td>\n      <td>Under-Graduate</td>\n      <td>1</td>\n    </tr>\n    <tr>\n      <th>1</th>\n      <td>6000</td>\n      <td>7000</td>\n      <td>2</td>\n      <td>3000</td>\n      <td>79920</td>\n      <td>Illiterate</td>\n      <td>1</td>\n    </tr>\n    <tr>\n      <th>2</th>\n      <td>10000</td>\n      <td>4500</td>\n      <td>2</td>\n      <td>0</td>\n      <td>112800</td>\n      <td>Under-Graduate</td>\n      <td>1</td>\n    </tr>\n    <tr>\n      <th>3</th>\n      <td>10000</td>\n      <td>2000</td>\n      <td>1</td>\n      <td>0</td>\n      <td>97200</td>\n      <td>Illiterate</td>\n      <td>1</td>\n    </tr>\n    <tr>\n      <th>4</th>\n      <td>12500</td>\n      <td>12000</td>\n      <td>2</td>\n      <td>3000</td>\n      <td>147000</td>\n      <td>Graduate</td>\n      <td>1</td>\n    </tr>\n  </tbody>\n</table>\n</div>"
     },
     "execution_count": 5,
     "metadata": {},
     "output_type": "execute_result"
    }
   ],
   "source": [
    "df = pd.read_csv('Inc_Exp_Data.csv')\n",
    "df.head()\n"
   ]
  },
  {
   "cell_type": "markdown",
   "metadata": {},
   "source": [
    "# 3.Analyze the data (Statistical Summary)"
   ]
  },
  {
   "cell_type": "code",
   "execution_count": 14,
   "metadata": {},
   "outputs": [
    {
     "data": {
      "text/plain": "Summarize dataset:   0%|          | 0/5 [00:00<?, ?it/s]",
      "application/vnd.jupyter.widget-view+json": {
       "version_major": 2,
       "version_minor": 0,
       "model_id": "f8225d6465fe4fe192179b9ae97777d1"
      }
     },
     "metadata": {},
     "output_type": "display_data"
    },
    {
     "data": {
      "text/plain": "Generate report structure:   0%|          | 0/1 [00:00<?, ?it/s]",
      "application/vnd.jupyter.widget-view+json": {
       "version_major": 2,
       "version_minor": 0,
       "model_id": "5d1f0892bea94481b57b2c2e8b357acd"
      }
     },
     "metadata": {},
     "output_type": "display_data"
    },
    {
     "data": {
      "text/plain": "Render HTML:   0%|          | 0/1 [00:00<?, ?it/s]",
      "application/vnd.jupyter.widget-view+json": {
       "version_major": 2,
       "version_minor": 0,
       "model_id": "90367d7e3e2f4e6faa0c2f51f7ca0e39"
      }
     },
     "metadata": {},
     "output_type": "display_data"
    },
    {
     "data": {
      "text/plain": "Export report to file:   0%|          | 0/1 [00:00<?, ?it/s]",
      "application/vnd.jupyter.widget-view+json": {
       "version_major": 2,
       "version_minor": 0,
       "model_id": "312a318d45d6479f983f670450262317"
      }
     },
     "metadata": {},
     "output_type": "display_data"
    }
   ],
   "source": [
    "report = ProfileReport(df, title='Practice+Exercise+Basic+Stats')\n",
    "# Display the report in the Jupyter Notebook\n",
    "# Or save the report as an HTML file\n",
    "report.to_file(\"Practice+Exercise+Basic+Stats.html\")"
   ]
  },
  {
   "cell_type": "markdown",
   "metadata": {},
   "source": [
    "# 4.What is the Mean Expense of a Household?"
   ]
  },
  {
   "cell_type": "markdown",
   "source": [
    "*  Mean is 18818"
   ],
   "metadata": {
    "collapsed": false
   }
  },
  {
   "cell_type": "markdown",
   "metadata": {},
   "source": [
    "# 5.What is the Median Household Expense?"
   ]
  },
  {
   "cell_type": "markdown",
   "source": [
    "* The median is 15500"
   ],
   "metadata": {
    "collapsed": false
   }
  },
  {
   "cell_type": "markdown",
   "metadata": {},
   "source": [
    "# 6.What is the Monthly Expense for most of the Households?"
   ]
  },
  {
   "cell_type": "markdown",
   "source": [
    "* 25000"
   ],
   "metadata": {
    "collapsed": false
   }
  },
  {
   "cell_type": "markdown",
   "metadata": {},
   "source": [
    "# 7.Plot the Histogram to count the Highest qualified member"
   ]
  },
  {
   "cell_type": "code",
   "execution_count": 30,
   "metadata": {},
   "outputs": [
    {
     "data": {
      "text/plain": "<AxesSubplot: xlabel='Highest_Qualified_Member', ylabel='Count'>"
     },
     "execution_count": 30,
     "metadata": {},
     "output_type": "execute_result"
    },
    {
     "data": {
      "text/plain": "<Figure size 640x480 with 1 Axes>",
      "image/png": "[encoded data removed]"
     },
     "metadata": {},
     "output_type": "display_data"
    }
   ],
   "source": [
    "sns.histplot(data=df,x='Highest_Qualified_Member', kde=True)\n"
   ]
  },
  {
   "cell_type": "markdown",
   "metadata": {},
   "source": [
    "# 8.Calculate IQR(difference between 75% and 25% quartile) for Monthly Household Income and Expense"
   ]
  },
  {
   "cell_type": "code",
   "execution_count": 32,
   "metadata": {},
   "outputs": [
    {
     "name": "stdout",
     "output_type": "stream",
     "text": [
      "IQR:Mthly_HH_Expense, 15000.0\n",
      "IQR:Mthly_HH_Income, 26825.0\n"
     ]
    }
   ],
   "source": [
    "def iqr_feature(data_set: pd.DataFrame, feature:str):\n",
    "    Q1 = data_set[feature].quantile(0.25)  # 25th quantile\n",
    "    Q3 = data_set[feature].quantile(0.75)  # 75th quantile\n",
    "    IQR = Q3 - Q1\n",
    "    return IQR\n",
    "\n",
    "for col_name in ['Mthly_HH_Expense','Mthly_HH_Income']:\n",
    "    print(f\"IQR:{col_name}, {iqr_feature(data_set=df, feature=col_name)}\")"
   ]
  },
  {
   "cell_type": "markdown",
   "metadata": {},
   "source": [
    "# 9.Calculate Standard Deviation for first 4 columns."
   ]
  },
  {
   "cell_type": "code",
   "execution_count": 37,
   "metadata": {},
   "outputs": [
    {
     "name": "stdout",
     "output_type": "stream",
     "text": [
      "Mthly_HH_Income Standard Deviation: 26097.908978713687\n",
      "Mthly_HH_Expense Standard Deviation: 12090.216824240286\n",
      "No_of_Fly_Members Standard Deviation: 1.5173822786601394\n",
      "Emi_or_Rent_Amt Standard Deviation: 6241.434947516607\n"
     ]
    }
   ],
   "source": [
    "for col in df.columns[0:4]:\n",
    "    print(f\"{col} Standard Deviation: {df[col].std()}\")\n"
   ]
  },
  {
   "cell_type": "markdown",
   "metadata": {},
   "source": [
    "# 10.Calculate Variance for first 3 columns."
   ]
  },
  {
   "cell_type": "code",
   "execution_count": 39,
   "metadata": {},
   "outputs": [
    {
     "name": "stdout",
     "output_type": "stream",
     "text": [
      "Mthly_HH_Income Variance: 681100853.0612245\n",
      "Mthly_HH_Expense Variance: 146173342.85714287\n",
      "No_of_Fly_Members Variance: 2.302448979591837\n"
     ]
    }
   ],
   "source": [
    "for col in df.columns[0:3]:\n",
    "    print(f\"{col} Variance: {df[col].var()}\")"
   ]
  },
  {
   "cell_type": "markdown",
   "metadata": {},
   "source": [
    "# 11.Calculate the count of Highest qualified member."
   ]
  },
  {
   "cell_type": "code",
   "execution_count": 41,
   "metadata": {},
   "outputs": [
    {
     "data": {
      "text/plain": "50"
     },
     "execution_count": 41,
     "metadata": {},
     "output_type": "execute_result"
    }
   ],
   "source": [
    "df.Highest_Qualified_Member.count()"
   ]
  },
  {
   "cell_type": "markdown",
   "metadata": {},
   "source": [
    "# 12.Plot the Histogram to count the No_of_Earning_Members"
   ]
  },
  {
   "cell_type": "code",
   "execution_count": 49,
   "metadata": {},
   "outputs": [
    {
     "data": {
      "text/plain": "<AxesSubplot: xlabel='Count', ylabel='No_of_Earning_Members'>"
     },
     "execution_count": 49,
     "metadata": {},
     "output_type": "execute_result"
    },
    {
     "data": {
      "text/plain": "<Figure size 640x480 with 1 Axes>",
      "image/png": "[encoded data removed]"
     },
     "metadata": {},
     "output_type": "display_data"
    }
   ],
   "source": [
    "sns.histplot(data=df, y='No_of_Earning_Members', kde=True)\n"
   ]
  }
 ],
 "metadata": {
  "kernelspec": {
   "display_name": "Python 3",
   "language": "python",
   "name": "python3"
  },
  "language_info": {
   "codemirror_mode": {
    "name": "ipython",
    "version": 3
   },
   "file_extension": ".py",
   "mimetype": "text/x-python",
   "name": "python",
   "nbconvert_exporter": "python",
   "pygments_lexer": "ipython3",
   "version": "3.8.5"
  }
 },
 "nbformat": 4,
 "nbformat_minor": 2
}
